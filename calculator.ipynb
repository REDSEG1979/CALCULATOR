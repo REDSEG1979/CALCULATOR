{
 "cells": [
  {
   "cell_type": "code",
   "execution_count": 5,
   "id": "7b9da1ad",
   "metadata": {},
   "outputs": [],
   "source": [
    "def calculator(a,b):\n",
    "    global op\n",
    "    if op == \"-\":\n",
    "        return(a-b)\n",
    "    elif op == \"+\":\n",
    "        return(a+b)\n",
    "    elif op == \"*\":\n",
    "        return(a*b)\n",
    "    elif op == \"/\":\n",
    "        if b != 0:\n",
    "            return(a/b)\n",
    "        else:\n",
    "            print(\"ERROR\")\n",
    "            return 0\n",
    "        \n",
    "    else:\n",
    "        print(\"operateur invalide\")\n",
    "        return 0"
   ]
  },
  {
   "cell_type": "code",
   "execution_count": 3,
   "id": "857e5977",
   "metadata": {},
   "outputs": [
    {
     "name": "stdout",
     "output_type": "stream",
     "text": [
      "a1\n",
      "b0\n",
      "/\n",
      "ERROR\n",
      "None\n"
     ]
    }
   ],
   "source": [
    "x = int(input(\"a\"))\n",
    "y = int(input(\"b\"))\n",
    "op = input()\n",
    "res = calculator(x,y)\n",
    "print(res)"
   ]
  },
  {
   "cell_type": "code",
   "execution_count": null,
   "id": "273326b1",
   "metadata": {},
   "outputs": [],
   "source": []
  }
 ],
 "metadata": {
  "kernelspec": {
   "display_name": "Python 3 (ipykernel)",
   "language": "python",
   "name": "python3"
  },
  "language_info": {
   "codemirror_mode": {
    "name": "ipython",
    "version": 3
   },
   "file_extension": ".py",
   "mimetype": "text/x-python",
   "name": "python",
   "nbconvert_exporter": "python",
   "pygments_lexer": "ipython3",
   "version": "3.10.9"
  }
 },
 "nbformat": 4,
 "nbformat_minor": 5
}
